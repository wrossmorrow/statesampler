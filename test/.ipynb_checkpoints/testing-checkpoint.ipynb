{
 "cells": [
  {
   "cell_type": "code",
   "execution_count": 1,
   "metadata": {
    "collapsed": false
   },
   "outputs": [],
   "source": [
    "import requests\n",
    "from random import random\n",
    "from math import floor\n",
    "from time import sleep\n",
    "\n",
    "import secrets\n",
    "import importlib\n",
    "importlib.reload( secrets )\n",
    "\n",
    "url = 'http://localhost:5000'\n",
    "\n",
    "example_data = {\n",
    "    'type' : 'gsheet' , \n",
    "    'options' : { \n",
    "        'apikey' : secrets.google_api_key , \n",
    "        'sheet'  : {\n",
    "            'id' : '1mkZV-HqNhW3jIprvaO6rMSlMswyqFdGng7qbtqhQj1Y' , \n",
    "            \"name\" : 'Sheet1' , \n",
    "            'range' : 'A2:D6'\n",
    "        }\n",
    "    }\n",
    "}\n",
    "\n",
    "example_s3_data = {\n",
    "    'type' : 's3' , \n",
    "    'options' : { \n",
    "         'aws' : {\n",
    "            'accessKey' : secrets.aws_s3_access_key , \n",
    "            'secretKey' : secrets.aws_s3_secret_key , \n",
    "            'bucket' : 'gsb-ross-test-bucket' ,\n",
    "            'prefix' : 'private/pictures' , \n",
    "        } , \n",
    "        'returnURLs' : 'parts' , # leave out for \"fields\" settings\n",
    "        # 's3url' : a full S3-style URL\n",
    "        # 's3obj' : will expect '${bucket}/${key}' strings\n",
    "        # 'parts' : sampler will expect objects with bucket/key fields\n",
    "    }\n",
    "}"
   ]
  },
  {
   "cell_type": "code",
   "execution_count": 2,
   "metadata": {
    "collapsed": false
   },
   "outputs": [
    {
     "name": "stdout",
     "output_type": "stream",
     "text": [
      "200 b'STATESAMPLER server, to assist with sampling content for online surveys.'\n"
     ]
    }
   ],
   "source": [
    "res = requests.get( url + '/' )\n",
    "print( res.status_code , res.content )"
   ]
  },
  {
   "cell_type": "markdown",
   "metadata": {},
   "source": [
    "# Data Sources"
   ]
  },
  {
   "cell_type": "code",
   "execution_count": 3,
   "metadata": {
    "collapsed": false
   },
   "outputs": [
    {
     "name": "stdout",
     "output_type": "stream",
     "text": [
      "200 b'[]'\n"
     ]
    }
   ],
   "source": [
    "res = requests.get( url + '/data' )\n",
    "print( res.status_code , res.content )"
   ]
  },
  {
   "cell_type": "code",
   "execution_count": 4,
   "metadata": {
    "collapsed": false
   },
   "outputs": [
    {
     "name": "stdout",
     "output_type": "stream",
     "text": [
      "400 b'BadRequest: loading data requires a request body with a \"type\" field.'\n"
     ]
    }
   ],
   "source": [
    "data = {}\n",
    "res = requests.put( url + '/data' , json=data )\n",
    "print( res.status_code , res.content )"
   ]
  },
  {
   "cell_type": "markdown",
   "metadata": {},
   "source": [
    "### Google Sheets"
   ]
  },
  {
   "cell_type": "code",
   "execution_count": 8,
   "metadata": {
    "collapsed": false
   },
   "outputs": [
    {
     "name": "stdout",
     "output_type": "stream",
     "text": [
      "400 b'Some \"options\" for gsheets are required.'\n"
     ]
    }
   ],
   "source": [
    "data = { 'type' : 'gsheet' }\n",
    "res = requests.put( url + '/data' , json=data )\n",
    "print( res.status_code , res.content )"
   ]
  },
  {
   "cell_type": "code",
   "execution_count": 9,
   "metadata": {
    "collapsed": false
   },
   "outputs": [
    {
     "name": "stdout",
     "output_type": "stream",
     "text": [
      "200 b'1af5c94fb859c2d4689550a134f26f9c1c12a060'\n",
      "200 b'[\"1af5c94fb859c2d4689550a134f26f9c1c12a060\"]'\n",
      "200 b''\n",
      "200 b'[]'\n"
     ]
    }
   ],
   "source": [
    "\n",
    "res = requests.put( url + '/data' , json=example_data )\n",
    "print( res.status_code , res.content )\n",
    "did = res.content.decode(\"utf-8\")\n",
    "\n",
    "res = requests.get( url + '/data' )\n",
    "print( res.status_code , res.content )\n",
    "\n",
    "res = requests.delete( url + '/data/' + did )\n",
    "print( res.status_code , res.content )\n",
    "\n",
    "res = requests.get( url + '/data' )\n",
    "print( res.status_code , res.content )"
   ]
  },
  {
   "cell_type": "markdown",
   "metadata": {},
   "source": [
    "### AWS S3"
   ]
  },
  {
   "cell_type": "code",
   "execution_count": 5,
   "metadata": {
    "collapsed": false
   },
   "outputs": [
    {
     "name": "stdout",
     "output_type": "stream",
     "text": [
      "200 b'f689be7b9367b11505e5eb09cd0780b94aec55e6'\n"
     ]
    }
   ],
   "source": [
    "res = requests.put( url + '/data' , json=example_s3_data )\n",
    "print( res.status_code , res.content )\n",
    "did = res.content.decode( 'utf-8' )"
   ]
  },
  {
   "cell_type": "code",
   "execution_count": null,
   "metadata": {
    "collapsed": false
   },
   "outputs": [],
   "source": []
  },
  {
   "cell_type": "code",
   "execution_count": 6,
   "metadata": {
    "collapsed": false
   },
   "outputs": [
    {
     "ename": "JSONDecodeError",
     "evalue": "Expecting value: line 1 column 1 (char 0)",
     "output_type": "error",
     "traceback": [
      "\u001b[0;31m---------------------------------------------------------------------------\u001b[0m",
      "\u001b[0;31mJSONDecodeError\u001b[0m                           Traceback (most recent call last)",
      "\u001b[0;32m<ipython-input-6-61b5480f9b6b>\u001b[0m in \u001b[0;36m<module>\u001b[0;34m()\u001b[0m\n\u001b[1;32m      2\u001b[0m \u001b[0mlength\u001b[0m \u001b[0;34m=\u001b[0m \u001b[0mlen\u001b[0m\u001b[0;34m(\u001b[0m \u001b[0mres\u001b[0m\u001b[0;34m.\u001b[0m\u001b[0mjson\u001b[0m\u001b[0;34m(\u001b[0m\u001b[0;34m)\u001b[0m\u001b[0;34m[\u001b[0m\u001b[0;34m'rows'\u001b[0m\u001b[0;34m]\u001b[0m \u001b[0;34m)\u001b[0m\u001b[0;34m\u001b[0m\u001b[0;34m\u001b[0m\u001b[0m\n\u001b[1;32m      3\u001b[0m \u001b[0mres\u001b[0m \u001b[0;34m=\u001b[0m \u001b[0mrequests\u001b[0m\u001b[0;34m.\u001b[0m\u001b[0mget\u001b[0m\u001b[0;34m(\u001b[0m \u001b[0murl\u001b[0m \u001b[0;34m+\u001b[0m \u001b[0;34m'/data/'\u001b[0m \u001b[0;34m+\u001b[0m \u001b[0mdid\u001b[0m \u001b[0;34m+\u001b[0m \u001b[0;34m'/row/'\u001b[0m \u001b[0;34m+\u001b[0m \u001b[0mstr\u001b[0m\u001b[0;34m(\u001b[0m \u001b[0mint\u001b[0m\u001b[0;34m(\u001b[0m \u001b[0mfloor\u001b[0m\u001b[0;34m(\u001b[0m \u001b[0mlength\u001b[0m \u001b[0;34m*\u001b[0m \u001b[0mrandom\u001b[0m\u001b[0;34m(\u001b[0m\u001b[0;34m)\u001b[0m \u001b[0;34m)\u001b[0m \u001b[0;34m)\u001b[0m \u001b[0;34m)\u001b[0m \u001b[0;34m)\u001b[0m\u001b[0;34m\u001b[0m\u001b[0;34m\u001b[0m\u001b[0m\n\u001b[0;32m----> 4\u001b[0;31m \u001b[0mprint\u001b[0m\u001b[0;34m(\u001b[0m \u001b[0mres\u001b[0m\u001b[0;34m.\u001b[0m\u001b[0mstatus_code\u001b[0m \u001b[0;34m,\u001b[0m \u001b[0mres\u001b[0m\u001b[0;34m.\u001b[0m\u001b[0mjson\u001b[0m\u001b[0;34m(\u001b[0m\u001b[0;34m)\u001b[0m \u001b[0;34m)\u001b[0m\u001b[0;34m\u001b[0m\u001b[0;34m\u001b[0m\u001b[0m\n\u001b[0m",
      "\u001b[0;32m/Users/morrowwr/anaconda/lib/python3.6/site-packages/requests/models.py\u001b[0m in \u001b[0;36mjson\u001b[0;34m(self, **kwargs)\u001b[0m\n\u001b[1;32m    895\u001b[0m                     \u001b[0;31m# used.\u001b[0m\u001b[0;34m\u001b[0m\u001b[0;34m\u001b[0m\u001b[0;34m\u001b[0m\u001b[0m\n\u001b[1;32m    896\u001b[0m                     \u001b[0;32mpass\u001b[0m\u001b[0;34m\u001b[0m\u001b[0;34m\u001b[0m\u001b[0m\n\u001b[0;32m--> 897\u001b[0;31m         \u001b[0;32mreturn\u001b[0m \u001b[0mcomplexjson\u001b[0m\u001b[0;34m.\u001b[0m\u001b[0mloads\u001b[0m\u001b[0;34m(\u001b[0m\u001b[0mself\u001b[0m\u001b[0;34m.\u001b[0m\u001b[0mtext\u001b[0m\u001b[0;34m,\u001b[0m \u001b[0;34m**\u001b[0m\u001b[0mkwargs\u001b[0m\u001b[0;34m)\u001b[0m\u001b[0;34m\u001b[0m\u001b[0;34m\u001b[0m\u001b[0m\n\u001b[0m\u001b[1;32m    898\u001b[0m \u001b[0;34m\u001b[0m\u001b[0m\n\u001b[1;32m    899\u001b[0m     \u001b[0;34m@\u001b[0m\u001b[0mproperty\u001b[0m\u001b[0;34m\u001b[0m\u001b[0;34m\u001b[0m\u001b[0m\n",
      "\u001b[0;32m/Users/morrowwr/anaconda/lib/python3.6/json/__init__.py\u001b[0m in \u001b[0;36mloads\u001b[0;34m(s, encoding, cls, object_hook, parse_float, parse_int, parse_constant, object_pairs_hook, **kw)\u001b[0m\n\u001b[1;32m    352\u001b[0m             \u001b[0mparse_int\u001b[0m \u001b[0;32mis\u001b[0m \u001b[0;32mNone\u001b[0m \u001b[0;32mand\u001b[0m \u001b[0mparse_float\u001b[0m \u001b[0;32mis\u001b[0m \u001b[0;32mNone\u001b[0m \u001b[0;32mand\u001b[0m\u001b[0;34m\u001b[0m\u001b[0;34m\u001b[0m\u001b[0m\n\u001b[1;32m    353\u001b[0m             parse_constant is None and object_pairs_hook is None and not kw):\n\u001b[0;32m--> 354\u001b[0;31m         \u001b[0;32mreturn\u001b[0m \u001b[0m_default_decoder\u001b[0m\u001b[0;34m.\u001b[0m\u001b[0mdecode\u001b[0m\u001b[0;34m(\u001b[0m\u001b[0ms\u001b[0m\u001b[0;34m)\u001b[0m\u001b[0;34m\u001b[0m\u001b[0;34m\u001b[0m\u001b[0m\n\u001b[0m\u001b[1;32m    355\u001b[0m     \u001b[0;32mif\u001b[0m \u001b[0mcls\u001b[0m \u001b[0;32mis\u001b[0m \u001b[0;32mNone\u001b[0m\u001b[0;34m:\u001b[0m\u001b[0;34m\u001b[0m\u001b[0;34m\u001b[0m\u001b[0m\n\u001b[1;32m    356\u001b[0m         \u001b[0mcls\u001b[0m \u001b[0;34m=\u001b[0m \u001b[0mJSONDecoder\u001b[0m\u001b[0;34m\u001b[0m\u001b[0;34m\u001b[0m\u001b[0m\n",
      "\u001b[0;32m/Users/morrowwr/anaconda/lib/python3.6/json/decoder.py\u001b[0m in \u001b[0;36mdecode\u001b[0;34m(self, s, _w)\u001b[0m\n\u001b[1;32m    337\u001b[0m \u001b[0;34m\u001b[0m\u001b[0m\n\u001b[1;32m    338\u001b[0m         \"\"\"\n\u001b[0;32m--> 339\u001b[0;31m         \u001b[0mobj\u001b[0m\u001b[0;34m,\u001b[0m \u001b[0mend\u001b[0m \u001b[0;34m=\u001b[0m \u001b[0mself\u001b[0m\u001b[0;34m.\u001b[0m\u001b[0mraw_decode\u001b[0m\u001b[0;34m(\u001b[0m\u001b[0ms\u001b[0m\u001b[0;34m,\u001b[0m \u001b[0midx\u001b[0m\u001b[0;34m=\u001b[0m\u001b[0m_w\u001b[0m\u001b[0;34m(\u001b[0m\u001b[0ms\u001b[0m\u001b[0;34m,\u001b[0m \u001b[0;36m0\u001b[0m\u001b[0;34m)\u001b[0m\u001b[0;34m.\u001b[0m\u001b[0mend\u001b[0m\u001b[0;34m(\u001b[0m\u001b[0;34m)\u001b[0m\u001b[0;34m)\u001b[0m\u001b[0;34m\u001b[0m\u001b[0;34m\u001b[0m\u001b[0m\n\u001b[0m\u001b[1;32m    340\u001b[0m         \u001b[0mend\u001b[0m \u001b[0;34m=\u001b[0m \u001b[0m_w\u001b[0m\u001b[0;34m(\u001b[0m\u001b[0ms\u001b[0m\u001b[0;34m,\u001b[0m \u001b[0mend\u001b[0m\u001b[0;34m)\u001b[0m\u001b[0;34m.\u001b[0m\u001b[0mend\u001b[0m\u001b[0;34m(\u001b[0m\u001b[0;34m)\u001b[0m\u001b[0;34m\u001b[0m\u001b[0;34m\u001b[0m\u001b[0m\n\u001b[1;32m    341\u001b[0m         \u001b[0;32mif\u001b[0m \u001b[0mend\u001b[0m \u001b[0;34m!=\u001b[0m \u001b[0mlen\u001b[0m\u001b[0;34m(\u001b[0m\u001b[0ms\u001b[0m\u001b[0;34m)\u001b[0m\u001b[0;34m:\u001b[0m\u001b[0;34m\u001b[0m\u001b[0;34m\u001b[0m\u001b[0m\n",
      "\u001b[0;32m/Users/morrowwr/anaconda/lib/python3.6/json/decoder.py\u001b[0m in \u001b[0;36mraw_decode\u001b[0;34m(self, s, idx)\u001b[0m\n\u001b[1;32m    355\u001b[0m             \u001b[0mobj\u001b[0m\u001b[0;34m,\u001b[0m \u001b[0mend\u001b[0m \u001b[0;34m=\u001b[0m \u001b[0mself\u001b[0m\u001b[0;34m.\u001b[0m\u001b[0mscan_once\u001b[0m\u001b[0;34m(\u001b[0m\u001b[0ms\u001b[0m\u001b[0;34m,\u001b[0m \u001b[0midx\u001b[0m\u001b[0;34m)\u001b[0m\u001b[0;34m\u001b[0m\u001b[0;34m\u001b[0m\u001b[0m\n\u001b[1;32m    356\u001b[0m         \u001b[0;32mexcept\u001b[0m \u001b[0mStopIteration\u001b[0m \u001b[0;32mas\u001b[0m \u001b[0merr\u001b[0m\u001b[0;34m:\u001b[0m\u001b[0;34m\u001b[0m\u001b[0;34m\u001b[0m\u001b[0m\n\u001b[0;32m--> 357\u001b[0;31m             \u001b[0;32mraise\u001b[0m \u001b[0mJSONDecodeError\u001b[0m\u001b[0;34m(\u001b[0m\u001b[0;34m\"Expecting value\"\u001b[0m\u001b[0;34m,\u001b[0m \u001b[0ms\u001b[0m\u001b[0;34m,\u001b[0m \u001b[0merr\u001b[0m\u001b[0;34m.\u001b[0m\u001b[0mvalue\u001b[0m\u001b[0;34m)\u001b[0m \u001b[0;32mfrom\u001b[0m \u001b[0;32mNone\u001b[0m\u001b[0;34m\u001b[0m\u001b[0;34m\u001b[0m\u001b[0m\n\u001b[0m\u001b[1;32m    358\u001b[0m         \u001b[0;32mreturn\u001b[0m \u001b[0mobj\u001b[0m\u001b[0;34m,\u001b[0m \u001b[0mend\u001b[0m\u001b[0;34m\u001b[0m\u001b[0;34m\u001b[0m\u001b[0m\n",
      "\u001b[0;31mJSONDecodeError\u001b[0m: Expecting value: line 1 column 1 (char 0)"
     ]
    }
   ],
   "source": [
    "res = requests.get( url + '/data/' + did )\n",
    "length = len( res.json()['rows'] )\n",
    "res = requests.get( url + '/data/' + did + '/row/' + str( int( floor( length * random() ) ) ) )\n",
    "print( res.status_code , res.json() )"
   ]
  },
  {
   "cell_type": "markdown",
   "metadata": {},
   "source": [
    "# Samplers"
   ]
  },
  {
   "cell_type": "code",
   "execution_count": 7,
   "metadata": {
    "collapsed": false
   },
   "outputs": [
    {
     "name": "stdout",
     "output_type": "stream",
     "text": [
      "200 b'[]'\n"
     ]
    }
   ],
   "source": [
    "res = requests.get( url + '/samplers' )\n",
    "print( res.status_code , res.content )"
   ]
  },
  {
   "cell_type": "code",
   "execution_count": 8,
   "metadata": {
    "collapsed": false
   },
   "outputs": [
    {
     "name": "stdout",
     "output_type": "stream",
     "text": [
      "400 b'BadRequest: creating a sampler requires a request body with a \"type\" field.'\n"
     ]
    }
   ],
   "source": [
    "data = {}\n",
    "res = requests.put( url + '/sampler/' + did , json=data )\n",
    "print( res.status_code , res.content )"
   ]
  },
  {
   "cell_type": "code",
   "execution_count": 9,
   "metadata": {
    "collapsed": false
   },
   "outputs": [
    {
     "name": "stdout",
     "output_type": "stream",
     "text": [
      "200 b'c209a569be4bc9628950f0511d3ad5790c5f4a08'\n",
      "400 b'BadRequest: creating a sampler requires a request body with a \"type\" field.'\n",
      "200 b'0b0406182b59747cb58e8f83b961ef8d16a5e0bd'\n",
      "200 [0, 0, 0, 0, 0]\n",
      "200 {'Row': 4, 'A': '3', 'B': 'here', 'C': 'brown', 'D': 'pretty'}\n",
      "200 {'Row': 6, 'A': '5', 'B': 'weird', 'C': 'jumped', 'D': 'dog'}\n",
      "200 {'Row': 2, 'A': '1', 'B': 'some', 'C': 'the', 'D': 'over'}\n",
      "200 {'Row': 5, 'A': '4', 'B': 'is', 'C': 'fox', 'D': 'lazy'}\n",
      "200 {'Row': 3, 'A': '2', 'B': 'thing', 'C': 'quick', 'D': 'the'}\n",
      "200 [1, 1, 1, 1, 1]\n",
      "200 b''\n"
     ]
    }
   ],
   "source": [
    "# make sure data exists\n",
    "res = requests.put( url + '/data' , json=example_data )\n",
    "print( res.status_code , res.content )\n",
    "did = res.content.decode(\"utf-8\")\n",
    "\n",
    "# a bad request (no sampler type)\n",
    "data = {}\n",
    "res = requests.put( url + '/sampler/' + did , json=data )\n",
    "print( res.status_code , res.content )\n",
    "\n",
    "# a good request\n",
    "data = { 'type' : 'RandomSampler' }\n",
    "res = requests.put( url + '/sampler/' + did , json=data )\n",
    "print( res.status_code , res.content )\n",
    "sid = res.content.decode(\"utf-8\")\n",
    "\n",
    "# get counts (all zeros)\n",
    "res = requests.get( url + '/counts/' + sid , json=data )\n",
    "print( res.status_code , res.json() )\n",
    "\n",
    "# get a bunch of samples\n",
    "for i in range(5) : \n",
    "    res = requests.get( url + '/sample/' + sid , json=data )\n",
    "    print( res.status_code , res.json() )\n",
    "\n",
    "# get counts (some numbers)\n",
    "res = requests.get( url + '/counts/' + sid , json=data )\n",
    "print( res.status_code , res.json() )\n",
    "\n",
    "# delete the data we created\n",
    "res = requests.delete( url + '/data/' + did )\n",
    "print( res.status_code , res.content )"
   ]
  },
  {
   "cell_type": "code",
   "execution_count": 10,
   "metadata": {
    "collapsed": false
   },
   "outputs": [
    {
     "name": "stdout",
     "output_type": "stream",
     "text": [
      "200 b'9b7cf8191e25b58b5bb07c23999df533d578b418'\n",
      "400 b'BadRequest: creating a sampler requires a request body with a \"type\" field.'\n",
      "200 b'14045179ab4f75b4ec7ef6119c88cd9c111838d2'\n",
      "200 [0, 0, 0, 0, 0, 0, 0, 0, 0, 0, 0, 0, 0, 0, 0, 0, 0, 0, 0, 0, 0]\n",
      "200 {'url': 'https://gsb-ross-test-bucket.s3.amazonaws.com/public/pictures/408bbfe21ce8e842796e6dc900515d2ae265a34e7ea22ebd', 'iid': 'private/pictures/1000138_297452357_XLarge.jpg'}\n",
      "200 {'url': 'https://gsb-ross-test-bucket.s3.amazonaws.com/public/pictures/c2ae031f642626ad47236d3c37f1e91825675144bae93352', 'iid': 'private/pictures/1000138_297506640_XLarge.jpg'}\n",
      "200 {'url': 'https://gsb-ross-test-bucket.s3.amazonaws.com/public/pictures/e64ef7c1aa2f7adf162e4c963f8c582bce430126838effc0', 'iid': 'private/pictures/1000138_297528810_XLarge.jpg'}\n",
      "200 {'url': 'https://gsb-ross-test-bucket.s3.amazonaws.com/public/pictures/876968b69b1386afb1ff783fa96c7f5394917a6ebccf8334', 'iid': 'private/pictures/1000138_297506641_XLarge.jpg'}\n",
      "200 {'url': 'https://gsb-ross-test-bucket.s3.amazonaws.com/public/pictures/6490706600527ebb48e917a64444c0a684a54a232a451f97', 'iid': 'private/pictures/1000138_297554614_XLarge.jpg'}\n",
      "200 [0, 1, 1, 1, 0, 0, 0, 0, 0, 1, 0, 0, 1, 0, 0, 0, 0, 0, 0, 0, 0]\n",
      "200 b''\n"
     ]
    }
   ],
   "source": [
    "# make sure data exists\n",
    "res = requests.put( url + '/data' , json=example_s3_data )\n",
    "print( res.status_code , res.content )\n",
    "did = res.content.decode(\"utf-8\")\n",
    "\n",
    "# a bad request (no sampler type)\n",
    "data = {}\n",
    "res = requests.put( url + '/sampler/' + did , json=data )\n",
    "print( res.status_code , res.content )\n",
    "\n",
    "# a good request\n",
    "data = { \n",
    "    'type' : 'SecuredS3RandomSampler' , \n",
    "    'options' : {\n",
    "         'aws' : {\n",
    "            'accessKey' : secrets.aws_s3_access_key , \n",
    "            'secretKey' : secrets.aws_s3_secret_key , \n",
    "            'public' : {\n",
    "                'bucket' : 'gsb-ross-test-bucket' ,\n",
    "                'prefix' : 'public/pictures' , \n",
    "            }\n",
    "        } , \n",
    "        'urlFormat' : 'parts' , # parts, s3obj, or s3url\n",
    "        # 'urlField'  : '' # the field in a row object containing the URL data; whole row if empty\n",
    "        \n",
    "        # 's3url' : a full S3-style URL\n",
    "        # 's3obj' : will expect '${bucket}/${key}' strings\n",
    "        # 'parts' : sampler will expect objects with bucket/key fields\n",
    "        \n",
    "    }\n",
    "}\n",
    "res = requests.put( url + '/sampler/' + did , json=data )\n",
    "print( res.status_code , res.content )\n",
    "sid = res.content.decode(\"utf-8\")\n",
    "\n",
    "sleep( 5 )\n",
    "\n",
    "# get counts (all zeros)\n",
    "res = requests.get( url + '/counts/' + sid , json=data )\n",
    "print( res.status_code , res.json() )\n",
    "\n",
    "# get a bunch of samples\n",
    "for i in range(5) : \n",
    "    res = requests.get( url + '/sample/' + sid , json=data )\n",
    "    print( res.status_code , res.json() )\n",
    "\n",
    "# get counts (some numbers)\n",
    "res = requests.get( url + '/counts/' + sid , json=data )\n",
    "print( res.status_code , res.json() )\n",
    "\n",
    "# reset the sampler\n",
    "res = requests.get( url + '/reset/' + sid )\n",
    "print( res.status_code )\n",
    "\n",
    "# get counts (some numbers)\n",
    "res = requests.get( url + '/counts/' + sid , json=data )\n",
    "print( res.status_code , res.json() )\n",
    "\n",
    "# delete the data we created\n",
    "res = requests.delete( url + '/data/' + did )\n",
    "print( res.status_code , res.content )"
   ]
  },
  {
   "cell_type": "code",
   "execution_count": null,
   "metadata": {
    "collapsed": true
   },
   "outputs": [],
   "source": []
  },
  {
   "cell_type": "code",
   "execution_count": null,
   "metadata": {
    "collapsed": true
   },
   "outputs": [],
   "source": []
  }
 ],
 "metadata": {
  "kernelspec": {
   "display_name": "Python 3",
   "language": "python",
   "name": "python3"
  },
  "language_info": {
   "codemirror_mode": {
    "name": "ipython",
    "version": 3
   },
   "file_extension": ".py",
   "mimetype": "text/x-python",
   "name": "python",
   "nbconvert_exporter": "python",
   "pygments_lexer": "ipython3",
   "version": "3.6.7"
  }
 },
 "nbformat": 4,
 "nbformat_minor": 2
}

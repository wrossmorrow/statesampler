{
 "cells": [
  {
   "cell_type": "code",
   "execution_count": 1,
   "metadata": {
    "collapsed": true
   },
   "outputs": [],
   "source": [
    "import pandas as pd"
   ]
  },
  {
   "cell_type": "code",
   "execution_count": 20,
   "metadata": {
    "collapsed": false
   },
   "outputs": [
    {
     "name": "stdout",
     "output_type": "stream",
     "text": [
      "                         row  null\n",
      "survey      response              \n",
      "SV_00000001 RV_00000000   47   0.0\n",
      "            RV_00000001   49   0.0\n",
      "            RV_00000002   50   4.0\n",
      "            RV_00000003   50   6.0\n",
      "            RV_00000004   50   8.0\n",
      "            RV_00000005   50   1.0\n",
      "            RV_00000006   36   0.0\n",
      "            RV_00000007   50   5.0\n",
      "            RV_00000008   48   0.0\n",
      "            RV_00000009   46   0.0\n",
      "SV_00000002 RV_00000000   50   4.0\n",
      "            RV_00000001   43   0.0\n",
      "            RV_00000002   50   7.0\n",
      "            RV_00000003   50  12.0\n",
      "            RV_00000004   38   0.0\n",
      "            RV_00000005   50   4.0\n",
      "            RV_00000006   45   0.0\n",
      "            RV_00000007   45   0.0\n",
      "            RV_00000008   50  11.0\n",
      "            RV_00000009   41   0.0\n"
     ]
    }
   ],
   "source": [
    "df = pd.read_csv( \"samples.csv\" )\n",
    "df.reset_index( inplace=True )\n",
    "df.columns = ['survey','response','row']\n",
    "df.sort_values( ['survey','response'] , inplace=True )\n",
    "\n",
    "df['null'] = df['row'].isnull()\n",
    "df2 = df.groupby( ['survey','response'] ).agg( { 'row' : 'count' , 'null' : 'sum' } )\n",
    "print( df2 )\n"
   ]
  },
  {
   "cell_type": "code",
   "execution_count": null,
   "metadata": {
    "collapsed": true
   },
   "outputs": [],
   "source": []
  }
 ],
 "metadata": {
  "kernelspec": {
   "display_name": "Python 3",
   "language": "python",
   "name": "python3"
  },
  "language_info": {
   "codemirror_mode": {
    "name": "ipython",
    "version": 3
   },
   "file_extension": ".py",
   "mimetype": "text/x-python",
   "name": "python",
   "nbconvert_exporter": "python",
   "pygments_lexer": "ipython3",
   "version": "3.6.7"
  }
 },
 "nbformat": 4,
 "nbformat_minor": 2
}
